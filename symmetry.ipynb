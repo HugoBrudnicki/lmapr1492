{
 "cells": [
  {
   "cell_type": "markdown",
   "id": "eebf58e4",
   "metadata": {},
   "source": [
    "# Material ID : mp-3056"
   ]
  },
  {
   "cell_type": "code",
   "execution_count": 1,
   "id": "4fc5df06",
   "metadata": {},
   "outputs": [],
   "source": [
    "import numpy as np\n",
    "from mp_api.client import MPRester\n",
    "from pymatgen.core.operations import SymmOp\n",
    "from pymatgen.symmetry.analyzer import SpacegroupAnalyzer\n",
    "from pymatgen.electronic_structure.plotter import BSPlotter\n",
    "from pymatgen.phonon.plotter import PhononBSPlotter\n",
    "from jupyter_jsmol.pymatgen import quick_view\n",
    "from lmapr1492 import plot_brillouin_zone, get_plot_bs, get_plot_dos, get_plot_bs_and_dos, get_branch_wavevectors\n",
    "from plotly.subplots import make_subplots\n",
    "import plotly.graph_objects as go\n",
    "from pymatgen.core.lattice import Lattice\n",
    "from jupyter_jsmol import JsmolView\n",
    "from ipywidgets import Layout, widgets, interact\n",
    "from IPython.display import display\n",
    "import json\n",
    "# An optional utility to display a progress bar\n",
    "# for long-running loops. `pip install tqdm`.\n",
    "from tqdm import tqdm"
   ]
  },
  {
   "cell_type": "code",
   "execution_count": 2,
   "id": "b9e5d4e0",
   "metadata": {},
   "outputs": [
    {
     "data": {
      "application/vnd.jupyter.widget-view+json": {
       "model_id": "4c1f06a9f9ab43728f7b486c4205e3f0",
       "version_major": 2,
       "version_minor": 0
      },
      "text/plain": [
       "Retrieving MaterialsDoc documents:   0%|          | 0/1 [00:00<?, ?it/s]"
      ]
     },
     "metadata": {},
     "output_type": "display_data"
    },
    {
     "data": {
      "application/vnd.jupyter.widget-view+json": {
       "model_id": "371b79cdd7f84c5fa1a11d1b37f04900",
       "version_major": 2,
       "version_minor": 0
      },
      "text/plain": [
       "Retrieving ElectronicStructureDoc documents:   0%|          | 0/1 [00:00<?, ?it/s]"
      ]
     },
     "metadata": {},
     "output_type": "display_data"
    },
    {
     "data": {
      "application/vnd.jupyter.widget-view+json": {
       "model_id": "d648b03d538a494c91e74f08df3c5556",
       "version_major": 2,
       "version_minor": 0
      },
      "text/plain": [
       "Retrieving ElectronicStructureDoc documents:   0%|          | 0/1 [00:00<?, ?it/s]"
      ]
     },
     "metadata": {},
     "output_type": "display_data"
    },
    {
     "data": {
      "application/vnd.jupyter.widget-view+json": {
       "model_id": "1a60b65a430c4970bc60dfd9dae600fc",
       "version_major": 2,
       "version_minor": 0
      },
      "text/plain": [
       "Retrieving PhononBSDOSDoc documents:   0%|          | 0/1 [00:00<?, ?it/s]"
      ]
     },
     "metadata": {},
     "output_type": "display_data"
    },
    {
     "data": {
      "application/vnd.jupyter.widget-view+json": {
       "model_id": "8ba5cf324374483ea2ff4ee3984c33ae",
       "version_major": 2,
       "version_minor": 0
      },
      "text/plain": [
       "Retrieving PhononBSDOSDoc documents:   0%|          | 0/1 [00:00<?, ?it/s]"
      ]
     },
     "metadata": {},
     "output_type": "display_data"
    }
   ],
   "source": [
    "api_key = \"IDG8oerg7OP5AeRfbNjUZBb1Ad4Qke2l\"\n",
    "material_id = \"mp-3056\"\n",
    "\n",
    "mpr = MPRester(api_key)\n",
    "\n",
    "structure = mpr.get_structure_by_material_id(material_id)\n",
    "el_bs = mpr.get_bandstructure_by_material_id(material_id)\n",
    "el_dos = mpr.get_dos_by_material_id(material_id)\n",
    "ph_bs = mpr.get_phonon_bandstructure_by_material_id(material_id)\n",
    "ph_dos = mpr.get_phonon_dos_by_material_id(material_id)\n",
    "\n",
    "conv_struc = SpacegroupAnalyzer(structure).get_conventional_standard_structure()\n",
    "symmops = SpacegroupAnalyzer(conv_struc).get_space_group_operations()"
   ]
  },
  {
   "cell_type": "markdown",
   "id": "84abefcb",
   "metadata": {},
   "source": [
    "# Télécharger le fichier .cif"
   ]
  },
  {
   "cell_type": "code",
   "execution_count": 3,
   "id": "5390bba4",
   "metadata": {},
   "outputs": [],
   "source": [
    "from pymatgen.io.cif import CifWriter\n",
    "\n",
    "CifWriter(structure).write_file(material_id+\".cif\")"
   ]
  },
  {
   "cell_type": "markdown",
   "id": "814c9844",
   "metadata": {},
   "source": [
    "## Représentation NaTlO2 dans la maille conventionnelle.  "
   ]
  },
  {
   "cell_type": "code",
   "execution_count": 4,
   "id": "e03a203d",
   "metadata": {
    "scrolled": true
   },
   "outputs": [
    {
     "data": {
      "application/vnd.jupyter.widget-view+json": {
       "model_id": "92c9605cf30f4cdd9b580ab8f003acc5",
       "version_major": 2,
       "version_minor": 0
      },
      "text/plain": [
       "JsmolView(layout=Layout(align_self='stretch', height='400px'))"
      ]
     },
     "metadata": {},
     "output_type": "display_data"
    }
   ],
   "source": [
    "view = quick_view(conv_struc, \"packed\")\n",
    "display(view)\n",
    "view.script('rotate on')"
   ]
  },
  {
   "cell_type": "markdown",
   "id": "490bf833",
   "metadata": {},
   "source": [
    "# Étude de la symmétrie"
   ]
  },
  {
   "cell_type": "code",
   "execution_count": 5,
   "id": "39684630",
   "metadata": {},
   "outputs": [
    {
     "name": "stdout",
     "output_type": "stream",
     "text": [
      "Molecule formula : NaTlO2 \t \t space group : R-3m\n"
     ]
    }
   ],
   "source": [
    "#Création d'un objet SpaceGroupAnalyzer\n",
    "struct = SpacegroupAnalyzer(structure)\n",
    "new_s  = SpacegroupAnalyzer(structure).get_primitive_standard_structure()\n",
    "space_group = SpacegroupAnalyzer(new_s).get_space_group_symbol()\n",
    "print(\"Molecule formula :\",new_s.reduced_formula,\"\\t \\t space group :\", space_group)"
   ]
  },
  {
   "cell_type": "raw",
   "id": "eabbc852",
   "metadata": {},
   "source": [
    " R : Symmétrie spatiale   = Réseau rhomboédrique\n",
    "-3 : Symmétrie ponctuelle = roto-inversion ordre 3 (le long des directions [111], [1-1-1], [-11-1] et [-1-1-1])\n",
    " m : Symmétrie poncutelle = réflexion              (le long des directions [110], [101], [011], [1-10], [10-1], [01-1])\n",
    " \n",
    " Opérations de symétrie ponctuelle : slide 48 et suivantes"
   ]
  },
  {
   "cell_type": "code",
   "execution_count": 6,
   "id": "973dbbad",
   "metadata": {},
   "outputs": [
    {
     "data": {
      "application/vnd.jupyter.widget-view+json": {
       "model_id": "a5b587f0eb2147ea9c7b8140888dbc8f",
       "version_major": 2,
       "version_minor": 0
      },
      "text/plain": [
       "JsmolView(layout=Layout(align_self='stretch', height='400px'))"
      ]
     },
     "metadata": {},
     "output_type": "display_data"
    }
   ],
   "source": [
    "#récupération de la structure conventionnel qui correspond à la maille du fichier CIF symmetrized\n",
    "struct_analyze = SpacegroupAnalyzer(conv_struc)\n",
    "\n",
    "view = quick_view(structure, conventional=True, supercell=[2,2,2])\n",
    "display(view)"
   ]
  },
  {
   "cell_type": "code",
   "execution_count": 7,
   "id": "58085a22",
   "metadata": {},
   "outputs": [],
   "source": [
    "view.script(\"select all; label on\")"
   ]
  },
  {
   "cell_type": "code",
   "execution_count": 8,
   "id": "90827f1c",
   "metadata": {},
   "outputs": [
    {
     "name": "stdout",
     "output_type": "stream",
     "text": [
      "---- 0 ----\n",
      " Rot:\n",
      "[[1. 0. 0.]\n",
      " [0. 1. 0.]\n",
      " [0. 0. 1.]]\n",
      "tau\n",
      "[0. 0. 0.]\n",
      "---- 1 ----\n",
      " Rot:\n",
      "[[-1.  0.  0.]\n",
      " [ 0. -1.  0.]\n",
      " [ 0.  0. -1.]]\n",
      "tau\n",
      "[0. 0. 0.]\n",
      "---- 2 ----\n",
      " Rot:\n",
      "[[ 0. -1.  0.]\n",
      " [ 1. -1.  0.]\n",
      " [ 0.  0.  1.]]\n",
      "tau\n",
      "[0. 0. 0.]\n",
      "---- 3 ----\n",
      " Rot:\n",
      "[[ 0.  1.  0.]\n",
      " [-1.  1.  0.]\n",
      " [ 0.  0. -1.]]\n",
      "tau\n",
      "[0. 0. 0.]\n",
      "---- 4 ----\n",
      " Rot:\n",
      "[[-1.  1.  0.]\n",
      " [-1.  0.  0.]\n",
      " [ 0.  0.  1.]]\n",
      "tau\n",
      "[0. 0. 0.]\n",
      "---- 5 ----\n",
      " Rot:\n",
      "[[ 1. -1.  0.]\n",
      " [ 1.  0.  0.]\n",
      " [ 0.  0. -1.]]\n",
      "tau\n",
      "[0. 0. 0.]\n",
      "---- 6 ----\n",
      " Rot:\n",
      "[[ 0.  1.  0.]\n",
      " [ 1.  0.  0.]\n",
      " [ 0.  0. -1.]]\n",
      "tau\n",
      "[0. 0. 0.]\n",
      "---- 7 ----\n",
      " Rot:\n",
      "[[ 0. -1.  0.]\n",
      " [-1.  0.  0.]\n",
      " [ 0.  0.  1.]]\n",
      "tau\n",
      "[0. 0. 0.]\n",
      "---- 8 ----\n",
      " Rot:\n",
      "[[ 1. -1.  0.]\n",
      " [ 0. -1.  0.]\n",
      " [ 0.  0. -1.]]\n",
      "tau\n",
      "[0. 0. 0.]\n",
      "---- 9 ----\n",
      " Rot:\n",
      "[[-1.  1.  0.]\n",
      " [ 0.  1.  0.]\n",
      " [ 0.  0.  1.]]\n",
      "tau\n",
      "[0. 0. 0.]\n",
      "---- 10 ----\n",
      " Rot:\n",
      "[[-1.  0.  0.]\n",
      " [-1.  1.  0.]\n",
      " [ 0.  0. -1.]]\n",
      "tau\n",
      "[0. 0. 0.]\n",
      "---- 11 ----\n",
      " Rot:\n",
      "[[ 1.  0.  0.]\n",
      " [ 1. -1.  0.]\n",
      " [ 0.  0.  1.]]\n",
      "tau\n",
      "[0. 0. 0.]\n",
      "---- 12 ----\n",
      " Rot:\n",
      "[[1. 0. 0.]\n",
      " [0. 1. 0.]\n",
      " [0. 0. 1.]]\n",
      "tau\n",
      "[0.66666667 0.33333333 0.33333333]\n",
      "---- 13 ----\n",
      " Rot:\n",
      "[[-1.  0.  0.]\n",
      " [ 0. -1.  0.]\n",
      " [ 0.  0. -1.]]\n",
      "tau\n",
      "[0.66666667 0.33333333 0.33333333]\n",
      "---- 14 ----\n",
      " Rot:\n",
      "[[ 0. -1.  0.]\n",
      " [ 1. -1.  0.]\n",
      " [ 0.  0.  1.]]\n",
      "tau\n",
      "[0.66666667 0.33333333 0.33333333]\n",
      "---- 15 ----\n",
      " Rot:\n",
      "[[ 0.  1.  0.]\n",
      " [-1.  1.  0.]\n",
      " [ 0.  0. -1.]]\n",
      "tau\n",
      "[0.66666667 0.33333333 0.33333333]\n",
      "---- 16 ----\n",
      " Rot:\n",
      "[[-1.  1.  0.]\n",
      " [-1.  0.  0.]\n",
      " [ 0.  0.  1.]]\n",
      "tau\n",
      "[0.66666667 0.33333333 0.33333333]\n",
      "---- 17 ----\n",
      " Rot:\n",
      "[[ 1. -1.  0.]\n",
      " [ 1.  0.  0.]\n",
      " [ 0.  0. -1.]]\n",
      "tau\n",
      "[0.66666667 0.33333333 0.33333333]\n",
      "---- 18 ----\n",
      " Rot:\n",
      "[[ 0.  1.  0.]\n",
      " [ 1.  0.  0.]\n",
      " [ 0.  0. -1.]]\n",
      "tau\n",
      "[0.66666667 0.33333333 0.33333333]\n",
      "---- 19 ----\n",
      " Rot:\n",
      "[[ 0. -1.  0.]\n",
      " [-1.  0.  0.]\n",
      " [ 0.  0.  1.]]\n",
      "tau\n",
      "[0.66666667 0.33333333 0.33333333]\n",
      "---- 20 ----\n",
      " Rot:\n",
      "[[ 1. -1.  0.]\n",
      " [ 0. -1.  0.]\n",
      " [ 0.  0. -1.]]\n",
      "tau\n",
      "[0.66666667 0.33333333 0.33333333]\n",
      "---- 21 ----\n",
      " Rot:\n",
      "[[-1.  1.  0.]\n",
      " [ 0.  1.  0.]\n",
      " [ 0.  0.  1.]]\n",
      "tau\n",
      "[0.66666667 0.33333333 0.33333333]\n",
      "---- 22 ----\n",
      " Rot:\n",
      "[[-1.  0.  0.]\n",
      " [-1.  1.  0.]\n",
      " [ 0.  0. -1.]]\n",
      "tau\n",
      "[0.66666667 0.33333333 0.33333333]\n",
      "---- 23 ----\n",
      " Rot:\n",
      "[[ 1.  0.  0.]\n",
      " [ 1. -1.  0.]\n",
      " [ 0.  0.  1.]]\n",
      "tau\n",
      "[0.66666667 0.33333333 0.33333333]\n",
      "---- 24 ----\n",
      " Rot:\n",
      "[[1. 0. 0.]\n",
      " [0. 1. 0.]\n",
      " [0. 0. 1.]]\n",
      "tau\n",
      "[0.33333333 0.66666667 0.66666667]\n",
      "---- 25 ----\n",
      " Rot:\n",
      "[[-1.  0.  0.]\n",
      " [ 0. -1.  0.]\n",
      " [ 0.  0. -1.]]\n",
      "tau\n",
      "[0.33333333 0.66666667 0.66666667]\n",
      "---- 26 ----\n",
      " Rot:\n",
      "[[ 0. -1.  0.]\n",
      " [ 1. -1.  0.]\n",
      " [ 0.  0.  1.]]\n",
      "tau\n",
      "[0.33333333 0.66666667 0.66666667]\n",
      "---- 27 ----\n",
      " Rot:\n",
      "[[ 0.  1.  0.]\n",
      " [-1.  1.  0.]\n",
      " [ 0.  0. -1.]]\n",
      "tau\n",
      "[0.33333333 0.66666667 0.66666667]\n",
      "---- 28 ----\n",
      " Rot:\n",
      "[[-1.  1.  0.]\n",
      " [-1.  0.  0.]\n",
      " [ 0.  0.  1.]]\n",
      "tau\n",
      "[0.33333333 0.66666667 0.66666667]\n",
      "---- 29 ----\n",
      " Rot:\n",
      "[[ 1. -1.  0.]\n",
      " [ 1.  0.  0.]\n",
      " [ 0.  0. -1.]]\n",
      "tau\n",
      "[0.33333333 0.66666667 0.66666667]\n",
      "---- 30 ----\n",
      " Rot:\n",
      "[[ 0.  1.  0.]\n",
      " [ 1.  0.  0.]\n",
      " [ 0.  0. -1.]]\n",
      "tau\n",
      "[0.33333333 0.66666667 0.66666667]\n",
      "---- 31 ----\n",
      " Rot:\n",
      "[[ 0. -1.  0.]\n",
      " [-1.  0.  0.]\n",
      " [ 0.  0.  1.]]\n",
      "tau\n",
      "[0.33333333 0.66666667 0.66666667]\n",
      "---- 32 ----\n",
      " Rot:\n",
      "[[ 1. -1.  0.]\n",
      " [ 0. -1.  0.]\n",
      " [ 0.  0. -1.]]\n",
      "tau\n",
      "[0.33333333 0.66666667 0.66666667]\n",
      "---- 33 ----\n",
      " Rot:\n",
      "[[-1.  1.  0.]\n",
      " [ 0.  1.  0.]\n",
      " [ 0.  0.  1.]]\n",
      "tau\n",
      "[0.33333333 0.66666667 0.66666667]\n",
      "---- 34 ----\n",
      " Rot:\n",
      "[[-1.  0.  0.]\n",
      " [-1.  1.  0.]\n",
      " [ 0.  0. -1.]]\n",
      "tau\n",
      "[0.33333333 0.66666667 0.66666667]\n",
      "---- 35 ----\n",
      " Rot:\n",
      "[[ 1.  0.  0.]\n",
      " [ 1. -1.  0.]\n",
      " [ 0.  0.  1.]]\n",
      "tau\n",
      "[0.33333333 0.66666667 0.66666667]\n",
      "\n",
      " [PeriodicSite: Na (1.684, 0.9724, 2.728) [0.3333, 0.6667, 0.1667], PeriodicSite: Na (3.369, 0.0, 8.183) [1.0, 1.0, 0.5], PeriodicSite: Na (1.684, -0.9724, 13.64) [0.6667, 0.3333, 0.8333], PeriodicSite: Tl (0.0, 0.0, 0.0) [0.0, 0.0, 0.0], PeriodicSite: Tl (1.684, -0.9724, 5.456) [0.6667, 0.3333, 0.3333], PeriodicSite: Tl (1.684, 0.9724, 10.91) [0.3333, 0.6667, 0.6667], PeriodicSite: O (1.684, -0.9724, 1.24) [0.6667, 0.3333, 0.07579], PeriodicSite: O (0.0, 0.0, 4.215) [0.0, 0.0, 0.2575], PeriodicSite: O (1.684, 0.9724, 6.696) [0.3333, 0.6667, 0.4091], PeriodicSite: O (1.684, -0.9724, 9.671) [0.6667, 0.3333, 0.5909], PeriodicSite: O (0.0, 0.0, 12.15) [0.0, 0.0, 0.7425], PeriodicSite: O (1.684, 0.9724, 15.13) [0.3333, 0.6667, 0.9242]]\n"
     ]
    }
   ],
   "source": [
    "# récupération des opération de symmétrie\n",
    "sym_op = struct_analyze.get_symmetry_operations()\n",
    "\"\"\"\n",
    "for i in range(len(sym_op)):\n",
    "    print(\"----\", i, \"----\\n\", sym_op[i])\n",
    "\"\"\"\n",
    "print(sym_op[12]) #translation (tau [0.66666667 0.33333333 0.33333333])\n",
    "print(\"__________\")\n",
    "print(sym_op[6])  #rot ??\n",
    "print(\"__________\")\n",
    "print(sym_op[16]) #rot ?? + translation (tau [0.66666667 0.33333333 0.33333333])\n",
    "\n",
    "#récupération de tous les sites d'atome dans la maille cristalline\n",
    "sites = conv_struc.sites \n",
    "print(\"\\n\",sites)"
   ]
  },
  {
   "cell_type": "markdown",
   "id": "2b78a919",
   "metadata": {},
   "source": [
    "# Premier élément de symétrie\n",
    "Le premier élément de symétrie est une translation dans la direction $<1 1 1>$.\n",
    "\n",
    "La matrice qui représente cette opération de symétrie est la suivante : $$\\left({\\begin{array}{cc}\n",
    "    1 & 0 & 0 \\\\\n",
    "    0 & 1 & 0 \\\\\n",
    "    0 & 0 & 1 \\\\\n",
    "  \\end{array} }\\right)$$, c'est-à-dire la matrice identité à laquelle on ajoute une translation $(0.6667, 0.3333, 0.3333)$.\n",
    "  \n",
    "C'est l'opération renseignée à la position 12 de la liste que l'on retrouve plus haut.\n",
    "\n",
    "L'équation est donc : $$\\begin{pmatrix}  1 & 0 & 0 \\\\\n",
    "    0 & 1 & 0 \\\\\n",
    "    0 & 0 & 1 \\end{pmatrix} \n",
    "\\begin{pmatrix}  \n",
    "x \\\\ \n",
    "y \\\\ \n",
    "z \n",
    "\\end{pmatrix} + \\begin{pmatrix}\n",
    "    0.6667 \\\\\n",
    "    0.3333 \\\\\n",
    "    0.3333\\\\\n",
    "  \\end{pmatrix} = \\begin{pmatrix}\n",
    "   x+0.6667\\\\\n",
    "   y+0.3333 \\\\\n",
    "   z+0.3333 \\\\\n",
    "  \\end{pmatrix}$$\n",
    "  \n",
    "Cet élément de symétrie va être appliqué à l'atome $\\textit{Na}$ dont les coordonnées réduites sont : $(0.3333, 0.6667, 0.1667)$"
   ]
  },
  {
   "cell_type": "code",
   "execution_count": 9,
   "id": "702b5f45",
   "metadata": {},
   "outputs": [
    {
     "name": "stdout",
     "output_type": "stream",
     "text": [
      "Rot:\n",
      "[[1. 0. 0.]\n",
      " [0. 1. 0.]\n",
      " [0. 0. 1.]]\n",
      "tau\n",
      "[0.66666667 0.33333333 0.33333333]\n",
      "\n",
      "Coordonnées réduites avant l'opération de symétrie sur l'atome de Na  :  [0.33333333 0.66666667 0.16666667]\n",
      "Coordonnées réduites après l'opération : [1.  1.  0.5]\n"
     ]
    }
   ],
   "source": [
    "op1 = sym_op[12]\n",
    "print(op1)\n",
    "Na1 = sites[0]\n",
    "atome = str(Na1.species)\n",
    "\n",
    "print(\"\\nCoordonnées réduites avant l'opération de symétrie sur l'atome de\", atome[:2], \" : \", Na1.frac_coords)\n",
    "# application de l'opérateur de symétrie\n",
    "Na1_afterop = op1.operate(Na1.frac_coords)\n",
    "print(\"Coordonnées réduites après l'opération :\", Na1_afterop)"
   ]
  },
  {
   "cell_type": "code",
   "execution_count": 10,
   "id": "ebfb25f6",
   "metadata": {},
   "outputs": [
    {
     "data": {
      "application/vnd.jupyter.widget-view+json": {
       "model_id": "ad03b4f0de3a4e6da42cca53a49f0c5f",
       "version_major": 2,
       "version_minor": 0
      },
      "text/plain": [
       "JsmolView(layout=Layout(align_self='stretch', height='400px'))"
      ]
     },
     "metadata": {},
     "output_type": "display_data"
    }
   ],
   "source": [
    "# représentation graphique\n",
    "view = quick_view(conv_struc,supercell=[2,1,1])\n",
    "display(view)\n",
    "view.script('draw SYMOP 13 {atomno = 1}; select atomno=1; label on')"
   ]
  },
  {
   "cell_type": "markdown",
   "id": "b8d8ef72",
   "metadata": {},
   "source": [
    "# Deuxième élément de symétrie\n",
    "Le deuxième élément de symétrie est une rotation d'ordre 2 dans la direction $<1 1 0>$.\n",
    "\n",
    "La matrice qui représente cette opération de symétrie est la suivante : $$\\left({\\begin{array}{cc}\n",
    "    0 & 1 & 0 \\\\\n",
    "    1 & 0 & 0 \\\\\n",
    "    0 & 0 & -1 \\\\\n",
    "  \\end{array} }\\right)$$\n",
    "  \n",
    "C'est l'opération renseignée à la position 6 de la liste que l'on retrouve plus haut.\n",
    "Cet élément de symétrie va être appliqué à l'atome $\\textit{O}$ dont les coordonnées réduites sont : $(0, 0, 0.2575)$"
   ]
  },
  {
   "cell_type": "code",
   "execution_count": 11,
   "id": "5179d023",
   "metadata": {},
   "outputs": [
    {
     "name": "stdout",
     "output_type": "stream",
     "text": [
      "Rot:\n",
      "[[ 0.  1.  0.]\n",
      " [ 1.  0.  0.]\n",
      " [ 0.  0. -1.]]\n",
      "tau\n",
      "[0. 0. 0.]\n",
      "\n",
      "Coordonnées réduites avant l'opération de symétrie sur l'atome de O  :  [0.         0.         0.25754465]\n",
      "Coordonnées réduites après l'opération : [ 0.          0.         -0.25754465]\n"
     ]
    }
   ],
   "source": [
    "op2 = sym_op[6]\n",
    "print(op2)\n",
    "O2 = sites[7]\n",
    "atome = str(O2.species)\n",
    "\n",
    "print(\"\\nCoordonnées réduites avant l'opération de symétrie sur l'atome de\", atome[:1], \" : \", O2.frac_coords)\n",
    "# application de l'opérateur de symétrie\n",
    "O2_afterop = op2.operate(O2.frac_coords)\n",
    "print(\"Coordonnées réduites après l'opération :\", O2_afterop)"
   ]
  },
  {
   "cell_type": "code",
   "execution_count": 12,
   "id": "d5cf7ce3",
   "metadata": {},
   "outputs": [
    {
     "data": {
      "application/vnd.jupyter.widget-view+json": {
       "model_id": "a45642188af14697968c14d5c71e1868",
       "version_major": 2,
       "version_minor": 0
      },
      "text/plain": [
       "JsmolView(layout=Layout(align_self='stretch', height='400px'))"
      ]
     },
     "metadata": {},
     "output_type": "display_data"
    }
   ],
   "source": [
    "# représentation graphique\n",
    "view = quick_view(conv_struc,supercell=[1,1,-1])\n",
    "display(view)\n",
    "view.script('draw SYMOP 7 {atomno = 9}; select atomno=9; label on')"
   ]
  },
  {
   "cell_type": "code",
   "execution_count": 13,
   "id": "a976f55e",
   "metadata": {},
   "outputs": [],
   "source": [
    "view.script('draw SYMOP 7 {atomno = 9}; select atomno=9; label on')"
   ]
  },
  {
   "cell_type": "markdown",
   "id": "971c103e",
   "metadata": {},
   "source": [
    "# Troisième élément de symétrie\n",
    "Le troisième élément de symétrie est une roto-inversion d'ordre $6$ dans la direction $<2 1 0>$. \n",
    "\n",
    "La matrice qui représente la rotation de cette opération de symétrie est la suivante : $$\\begin{pmatrix}\n",
    "    -1 & 1 & 0 \\\\\n",
    "    -1 & 0 & 0 \\\\\n",
    "    0 & 0 & 1\n",
    "  \\end{pmatrix}$$\n",
    "Pour compléter l'opération de symmétrie, il faut appliquer une translation $(0.6667, 0.3333, 0.3333)$.\n",
    "  \n",
    "L'équation est donc : $$\\begin{pmatrix} -1 & 1 & 0 \\\\\n",
    "    -1 & 0 & 0 \\\\\n",
    "    0 & 0 & 1  \\end{pmatrix} \n",
    "\\begin{pmatrix}  \n",
    "x \\\\ \n",
    "y \\\\ \n",
    "z \n",
    "\\end{pmatrix} + \\begin{pmatrix}\n",
    "    0.6667 \\\\\n",
    "    0.3333 \\\\\n",
    "    0.3333 \\\\\n",
    "  \\end{pmatrix} = \\begin{pmatrix}\n",
    "   -x+y+0.6667 \\\\\n",
    "   -x+0.3333 \\\\\n",
    "   z+0.3333 \\\\\n",
    "  \\end{pmatrix}$$\n",
    "  \n",
    "C'est l'opération renseignée à la position 16 de la liste que l'on retrouve plus haut. Cet élément de symétrie va être appliqué à l'atome de $\\textit{Na}$ dont les coordonnées réduites sont : $(0.6667, 0.3333, 0.3333)$."
   ]
  },
  {
   "cell_type": "code",
   "execution_count": 14,
   "id": "b703ec02",
   "metadata": {},
   "outputs": [
    {
     "name": "stdout",
     "output_type": "stream",
     "text": [
      "Rot:\n",
      "[[-1.  1.  0.]\n",
      " [-1.  0.  0.]\n",
      " [ 0.  0.  1.]]\n",
      "tau\n",
      "[0.66666667 0.33333333 0.33333333]\n",
      "\n",
      "Coordonnées réduites avant l'opération de symétrie sur l'atome de Na  :  [0.66666667 0.33333333 0.83333333]\n",
      "Coordonnées réduites après l'opération : [ 0.33333333 -0.33333333  1.16666667]\n"
     ]
    }
   ],
   "source": [
    "op3 = sym_op[16]\n",
    "print(op3)\n",
    "Na3 = sites[2]\n",
    "atome = str(Na3.species)\n",
    "\n",
    "print(\"\\nCoordonnées réduites avant l'opération de symétrie sur l'atome de\", atome[:2], \" : \", Na3.frac_coords)\n",
    "# application de l'opérateur de symétrie\n",
    "Na3_afterop = op3.operate(Na3.frac_coords)\n",
    "print(\"Coordonnées réduites après l'opération :\", Na3_afterop)"
   ]
  },
  {
   "cell_type": "code",
   "execution_count": 15,
   "id": "91a9ab86",
   "metadata": {},
   "outputs": [
    {
     "data": {
      "application/vnd.jupyter.widget-view+json": {
       "model_id": "20d5715cb2884eef86dbb1bdb496c56e",
       "version_major": 2,
       "version_minor": 0
      },
      "text/plain": [
       "JsmolView(layout=Layout(align_self='stretch', height='400px'))"
      ]
     },
     "metadata": {},
     "output_type": "display_data"
    }
   ],
   "source": [
    "# représentation graphique\n",
    "view = quick_view(conv_struc,supercell=[1,1,1])\n",
    "display(view)\n",
    "view.script('draw SYMOP 17 {atomno = 20}; select atomno=20; label on')"
   ]
  },
  {
   "cell_type": "code",
   "execution_count": 16,
   "id": "db44df37",
   "metadata": {},
   "outputs": [],
   "source": [
    "view.script('draw SYMOP 17 {atomno = 20}; select atomno=20; label on')"
   ]
  },
  {
   "cell_type": "code",
   "execution_count": null,
   "id": "071b7e8b",
   "metadata": {},
   "outputs": [],
   "source": []
  }
 ],
 "metadata": {
  "kernelspec": {
   "display_name": "Python 3 (ipykernel)",
   "language": "python",
   "name": "python3"
  },
  "language_info": {
   "codemirror_mode": {
    "name": "ipython",
    "version": 3
   },
   "file_extension": ".py",
   "mimetype": "text/x-python",
   "name": "python",
   "nbconvert_exporter": "python",
   "pygments_lexer": "ipython3",
   "version": "3.9.13"
  }
 },
 "nbformat": 4,
 "nbformat_minor": 5
}
