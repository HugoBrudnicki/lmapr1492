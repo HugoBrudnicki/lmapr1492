{
 "cells": [
  {
   "cell_type": "markdown",
   "id": "558a2230",
   "metadata": {},
   "source": [
    "# Material ID : mp-3056"
   ]
  },
  {
   "cell_type": "code",
   "execution_count": 1,
   "id": "8fdfa1f5",
   "metadata": {},
   "outputs": [],
   "source": [
    "import numpy as np\n",
    "from mp_api.client import MPRester\n",
    "from pymatgen.core.operations import SymmOp\n",
    "from pymatgen.symmetry.analyzer import SpacegroupAnalyzer\n",
    "from pymatgen.electronic_structure.plotter import BSPlotter\n",
    "from pymatgen.phonon.plotter import PhononBSPlotter\n",
    "from jupyter_jsmol.pymatgen import quick_view\n",
    "from lmapr1492 import plot_brillouin_zone, get_plot_bs, get_plot_dos, get_plot_bs_and_dos, get_branch_wavevectors\n",
    "from plotly.subplots import make_subplots\n",
    "import plotly.graph_objects as go\n",
    "from pymatgen.core.lattice import Lattice\n",
    "from jupyter_jsmol import JsmolView\n",
    "from ipywidgets import Layout, widgets, interact\n",
    "from IPython.display import display\n",
    "import json\n",
    "# An optional utility to display a progress bar\n",
    "# for long-running loops. `pip install tqdm`.\n",
    "from tqdm import tqdm"
   ]
  },
  {
   "cell_type": "code",
   "execution_count": 2,
   "id": "5263a3fd",
   "metadata": {},
   "outputs": [
    {
     "data": {
      "application/vnd.jupyter.widget-view+json": {
       "model_id": "e29743a4dbd1486c914631d2e19d3ab5",
       "version_major": 2,
       "version_minor": 0
      },
      "text/plain": [
       "Retrieving MaterialsDoc documents:   0%|          | 0/1 [00:00<?, ?it/s]"
      ]
     },
     "metadata": {},
     "output_type": "display_data"
    },
    {
     "data": {
      "application/vnd.jupyter.widget-view+json": {
       "model_id": "5224abf69fd5467c8bc6a9209a1e3934",
       "version_major": 2,
       "version_minor": 0
      },
      "text/plain": [
       "Retrieving ElectronicStructureDoc documents:   0%|          | 0/1 [00:00<?, ?it/s]"
      ]
     },
     "metadata": {},
     "output_type": "display_data"
    },
    {
     "data": {
      "application/vnd.jupyter.widget-view+json": {
       "model_id": "7d445ebb21d64dbbaa7a8698ee3e57e4",
       "version_major": 2,
       "version_minor": 0
      },
      "text/plain": [
       "Retrieving ElectronicStructureDoc documents:   0%|          | 0/1 [00:00<?, ?it/s]"
      ]
     },
     "metadata": {},
     "output_type": "display_data"
    },
    {
     "data": {
      "application/vnd.jupyter.widget-view+json": {
       "model_id": "feef4ac3f3b64061bac6d27bc47ae3f9",
       "version_major": 2,
       "version_minor": 0
      },
      "text/plain": [
       "Retrieving PhononBSDOSDoc documents:   0%|          | 0/1 [00:00<?, ?it/s]"
      ]
     },
     "metadata": {},
     "output_type": "display_data"
    },
    {
     "data": {
      "application/vnd.jupyter.widget-view+json": {
       "model_id": "866aa6cb65d44f5092ad1da26d00ec40",
       "version_major": 2,
       "version_minor": 0
      },
      "text/plain": [
       "Retrieving PhononBSDOSDoc documents:   0%|          | 0/1 [00:00<?, ?it/s]"
      ]
     },
     "metadata": {},
     "output_type": "display_data"
    }
   ],
   "source": [
    "api_key = \"IDG8oerg7OP5AeRfbNjUZBb1Ad4Qke2l\"\n",
    "material_id = \"mp-3056\"\n",
    "\n",
    "mpr = MPRester(api_key)\n",
    "\n",
    "structure = mpr.get_structure_by_material_id(material_id)\n",
    "el_bs = mpr.get_bandstructure_by_material_id(material_id)\n",
    "el_dos = mpr.get_dos_by_material_id(material_id)\n",
    "ph_bs = mpr.get_phonon_bandstructure_by_material_id(material_id)\n",
    "ph_dos = mpr.get_phonon_dos_by_material_id(material_id)\n",
    "\n",
    "conv_struc = SpacegroupAnalyzer(structure).get_conventional_standard_structure()\n",
    "symmops = SpacegroupAnalyzer(conv_struc).get_space_group_operations()"
   ]
  },
  {
   "cell_type": "markdown",
   "id": "6e167f74",
   "metadata": {},
   "source": [
    "# Télécharger le fichier .cif"
   ]
  },
  {
   "cell_type": "code",
   "execution_count": 3,
   "id": "f767240b",
   "metadata": {},
   "outputs": [],
   "source": [
    "from pymatgen.io.cif import CifWriter\n",
    "\n",
    "CifWriter(structure).write_file(material_id+\".cif\")"
   ]
  },
  {
   "cell_type": "markdown",
   "id": "0bcfb3c0",
   "metadata": {},
   "source": [
    "# Déterminer les vecteurs de bases des ses réseaux direct et réciproque"
   ]
  },
  {
   "cell_type": "code",
   "execution_count": 4,
   "id": "9a3a45c9",
   "metadata": {},
   "outputs": [],
   "source": [
    "primitive_struct  = structure"
   ]
  },
  {
   "cell_type": "code",
   "execution_count": 5,
   "id": "fc9c3418",
   "metadata": {},
   "outputs": [
    {
     "data": {
      "application/vnd.jupyter.widget-view+json": {
       "model_id": "fc61fe2867a143e68f9e6fc505364653",
       "version_major": 2,
       "version_minor": 0
      },
      "text/plain": [
       "JsmolView(layout=Layout(align_self='stretch', height='400px'))"
      ]
     },
     "metadata": {},
     "output_type": "display_data"
    }
   ],
   "source": [
    "view = quick_view(primitive_struct, \"packed\", conventional = False) # Représentation interactive de la structure cristalline.\n",
    "display(view)"
   ]
  },
  {
   "cell_type": "code",
   "execution_count": 6,
   "id": "66f68169",
   "metadata": {
    "scrolled": false
   },
   "outputs": [
    {
     "data": {
      "application/vnd.jupyter.widget-view+json": {
       "model_id": "f956a1862dcd4ca9a1ffab10feafd501",
       "version_major": 2,
       "version_minor": 0
      },
      "text/plain": [
       "JsmolView(layout=Layout(align_self='stretch', height='400px'))"
      ]
     },
     "metadata": {},
     "output_type": "display_data"
    }
   ],
   "source": [
    "view = quick_view(conv_struc, \"packed\", conventional = True) # Représentation interactive de la structure cristalline.\n",
    "display(view)"
   ]
  },
  {
   "cell_type": "code",
   "execution_count": 7,
   "id": "f28c1ca6",
   "metadata": {},
   "outputs": [
    {
     "name": "stdout",
     "output_type": "stream",
     "text": [
      "For the primitive structure\n",
      "lenght a : 5.791879482140288\n",
      "\n",
      "direct network basis vectors :\n",
      "[[ 3.20535534 -0.01296672  4.82404363]\n",
      " [ 1.44694452  2.86021434  4.82404363]\n",
      " [-0.021186   -0.01296672  5.79182686]]\n",
      "\n",
      "reciprocal network basis vectors :\n",
      "[[ 1.94881441e+00 -9.94148613e-01  4.90289783e-03]\n",
      " [ 1.47071244e-03  2.18773941e+00  4.90328242e-03]\n",
      " [-1.62440293e+00 -9.94148167e-01  1.07666890e+00]]\n"
     ]
    }
   ],
   "source": [
    "length_a = primitive_struct.lattice.a\n",
    "basis_vectors = primitive_struct.lattice\n",
    "reciprocal_vectors = primitive_struct.lattice.reciprocal_lattice\n",
    "\n",
    "print(\"For the primitive structure\")\n",
    "print(\"lenght a :\", length_a)\n",
    "print(\"\\ndirect network basis vectors :\") \n",
    "print(basis_vectors.matrix)\n",
    "print(\"\\nreciprocal network basis vectors :\")\n",
    "print(reciprocal_vectors.matrix)"
   ]
  },
  {
   "cell_type": "code",
   "execution_count": 8,
   "id": "4c950b3d",
   "metadata": {},
   "outputs": [
    {
     "name": "stdout",
     "output_type": "stream",
     "text": [
      "For the conventionnal structure\n",
      "lenght a : 3.3685574822914273\n",
      "\n",
      "direct network basis vectors :\n",
      "[[ 1.68427874 -2.91725635  0.        ]\n",
      " [ 1.68427874  2.91725635  0.        ]\n",
      " [ 0.          0.         16.36677463]]\n",
      "\n",
      "reciprocal network basis vectors :\n",
      "[[ 1.86524509 -1.07689976  0.        ]\n",
      " [ 1.86524509  1.07689976  0.        ]\n",
      " [ 0.          0.          0.38389881]]\n"
     ]
    }
   ],
   "source": [
    "length_a = conv_struc.lattice.a\n",
    "basis_vectors = conv_struc.lattice\n",
    "reciprocal_vectors = conv_struc.lattice.reciprocal_lattice\n",
    "\n",
    "print(\"For the conventionnal structure\")\n",
    "print(\"lenght a :\", length_a)\n",
    "print(\"\\ndirect network basis vectors :\") \n",
    "print(basis_vectors.matrix)\n",
    "print(\"\\nreciprocal network basis vectors :\")\n",
    "print(reciprocal_vectors.matrix)"
   ]
  },
  {
   "cell_type": "markdown",
   "id": "74b1a665",
   "metadata": {},
   "source": [
    "Structure primitive :\n",
    "- C'est la plus petite maille possible qui, répétée par translation, permet de reconstituer tout le cristal.\n",
    "- Elle est plus compacte, avec le nombre minimal d'atomes.\n",
    "- Utile pour les calculs théoriques et l'étude des propriétés fondamentales du réseau réciproque.\n",
    "\n",
    "Structure conventionnelle :\n",
    "- Elle est choisie pour mieux visualiser la symétrie et correspond souvent aux descriptions standard des systèmes cristallins.\n",
    "- Elle peut contenir plusieurs fois la maille primitive mais respecte mieux les axes de symétrie du système cristallin.\n",
    "- Plus pratique pour identifier le système cristallin, le type de maille et le groupe ponctuel."
   ]
  },
  {
   "cell_type": "markdown",
   "id": "52a5e8c0",
   "metadata": {},
   "source": [
    "\"Un solide cristallin est un solide à structure régulière et périodique, formé d'un empilement ordonné d'un grand nombre d’atomes, de molécules ou d’ions. L’empilement ordonné est appelé réseau ponctuel. Pour une structure donnée le réseau est défini en se donnant un systèmes d’axes et en repérant toutes les positions identiques par rapport à l’origine.\" (slides 15-16)\n",
    "\n",
    "Le réseau direct fait référence à la structure spatiale des atomes dans le cristal tandis que le réseau réciproque est une représentation mathématique du réseau direct. Il est obtenu grâce à la relation suivante (condition de Laue, slide 158) :\n",
    "\\begin{equation}\n",
    "    e^{i\\textbf{K}\\cdot\\textbf{R}}=1\n",
    "\\end{equation}\n",
    "\n",
    "Propriétés des réseaux direct et réciproque à partir de la slide 159."
   ]
  },
  {
   "cell_type": "markdown",
   "id": "88db3438",
   "metadata": {},
   "source": [
    "# Déterminer son type de maille"
   ]
  },
  {
   "cell_type": "code",
   "execution_count": 9,
   "id": "9ba18f33",
   "metadata": {},
   "outputs": [
    {
     "name": "stdout",
     "output_type": "stream",
     "text": [
      "cell type : R\n"
     ]
    }
   ],
   "source": [
    "cell_type = SpacegroupAnalyzer(conv_struc).get_space_group_symbol()[0]\n",
    "print(\"cell type :\", cell_type)"
   ]
  },
  {
   "cell_type": "markdown",
   "id": "239663da",
   "metadata": {},
   "source": [
    "# Déterminer son système cristallin"
   ]
  },
  {
   "cell_type": "code",
   "execution_count": 10,
   "id": "60e599f1",
   "metadata": {},
   "outputs": [
    {
     "name": "stdout",
     "output_type": "stream",
     "text": [
      "cristal system : trigonal\n"
     ]
    }
   ],
   "source": [
    "crystal_system = SpacegroupAnalyzer(conv_struc).get_crystal_system()\n",
    "print(\"cristal system :\", crystal_system)"
   ]
  },
  {
   "cell_type": "markdown",
   "id": "53630b3d",
   "metadata": {},
   "source": [
    "En 3D, il existe 14 types de réseaux de Bravais différents. On les classe selon 7 systèmes cristallins et 4 types de mailles. Tous ces réseaux sont repris sur la slide 39."
   ]
  },
  {
   "cell_type": "markdown",
   "id": "59f7f890",
   "metadata": {},
   "source": [
    "# Déterminer son groupe ponctuel et son groupe spatial"
   ]
  },
  {
   "cell_type": "code",
   "execution_count": 11,
   "id": "c3583815",
   "metadata": {},
   "outputs": [
    {
     "name": "stdout",
     "output_type": "stream",
     "text": [
      "point group : -3m\n"
     ]
    }
   ],
   "source": [
    "point_group = SpacegroupAnalyzer(conv_struc).get_point_group_symbol()\n",
    "print(\"point group :\", point_group)"
   ]
  },
  {
   "cell_type": "code",
   "execution_count": 12,
   "id": "eaa4a8e3",
   "metadata": {},
   "outputs": [
    {
     "name": "stdout",
     "output_type": "stream",
     "text": [
      "space group : R-3m\n"
     ]
    }
   ],
   "source": [
    "space_group = SpacegroupAnalyzer(conv_struc).get_space_group_symbol()\n",
    "print(\"space group :\", space_group)"
   ]
  },
  {
   "cell_type": "markdown",
   "id": "849743cd",
   "metadata": {},
   "source": [
    "Les groupes ponctuels servent à décrire les relations de symmétrie au sein d'un réseau grâce aux opérations ponctuelles. Avec les 4 opérations de symétrie ponctuelle (\"symétries qui laissent invariant au moins un point de l’espace\" = rotation / réflexion / inversion / roto-inversion, slide 48) et selon le système crystallin observé, on peut créer 32 différents groupes ponctuels en 3D. Ils sont repris à la slide 59.\n",
    "\n",
    "Pour les groupes spatiaux, il s'agit globalement de la même chose étendu à un concept un peu plus large puisqu'il inclut également les opérations de symétrie spatiale (\"symétrie qui résultent de la combinaison d’une opération de symétrie ponctuelle et d’une translation\" = réflexion avec glissement / rotation hélicoïdale, slide 67). Il existe, en 3D, 230 groupes spatiaux. Quelques-uns sont repris à la slide 78."
   ]
  },
  {
   "cell_type": "markdown",
   "id": "4b8f3030",
   "metadata": {},
   "source": [
    "# Conclusion"
   ]
  },
  {
   "cell_type": "markdown",
   "id": "0eb08b9e",
   "metadata": {},
   "source": [
    "Pour résumer, le matériau NaTlO₂ cristallise dans un système cristallin trigonal. Sa maille conventionnelle est de type rhomboédrique (R), et son groupe d’espace est R-3m. Le groupe ponctuel associé est -3m. Cela implique la présence d’un plan miroir ainsi qu’une roto-inversion d’ordre 3, c’est-à-dire un axe de symétrie d’ordre 3 combiné à une inversion.\n",
    "\n",
    "Les vecteurs de base du réseau direct pour la structure primitive sont :\n",
    "\n",
    "\\begin{align}\n",
    "a_1 = ( 3.2053, -0.0130, 4.8240) && a_2 = ( 1.4469,  2.8602, 4.8240) && a_3 = (-0.0212, -0.0130, 5.7918)\n",
    "\\end{align}\n",
    "\n",
    "Les vecteurs de base du réseau réciproque correspondant sont :\n",
    "\n",
    "\\begin{align}\n",
    "a^*_1 = ( 1.9488, -0.9941, 0.0049) && a^*_2 = ( 0.0015,  2.1877, 0.0049) && a^*_3 = (-1.6244, -0.9941, 1.0767)\n",
    "\\end{align}\n",
    "\n",
    "Pour la maille conventionnelle, les longueurs des vecteurs de base du réseau direct sont :\n",
    "\n",
    "\\begin{align}\n",
    "a_1 = (1.6843, -2.9173,  0) && a_2 = (1.6843,  2.9173,  0) && a_3 = (0     ,  0     , 16.3668)\n",
    "\\end{align}\n",
    "\n",
    "Les vecteurs de base du réseau réciproque sont :\n",
    "\n",
    "\\begin{align}\n",
    "a^*_1 = (1.8652, -1.0769, 0     ) && a^*_2 = (1.8652,  1.0769, 0     ) && a^*_3 = (0     ,  0     , 0.3839)\n",
    "\\end{align}\n",
    "\n",
    "\n",
    "Après vérification, les vecteurs du réseau réciproque sont corrects vis-à-vis du réseau direct car la relation $a \\cdot a^* = 2\\pi$ et $b \\cdot a^* = 0$ est respectée.\n",
    "\n",
    "Ainsi, le matériau NaTlO₂ possède une structure trigonal avec une maille conventionnelle rhomboédrique et un réseau de Bravais de type R. Son groupe d’espace R-3m et son groupe ponctuel -3m impliquent une symétrie caractéristique des matériaux cristallins trigonaux."
   ]
  },
  {
   "cell_type": "code",
   "execution_count": null,
   "id": "5122cef5",
   "metadata": {},
   "outputs": [],
   "source": []
  }
 ],
 "metadata": {
  "kernelspec": {
   "display_name": "Python 3 (ipykernel)",
   "language": "python",
   "name": "python3"
  },
  "language_info": {
   "codemirror_mode": {
    "name": "ipython",
    "version": 3
   },
   "file_extension": ".py",
   "mimetype": "text/x-python",
   "name": "python",
   "nbconvert_exporter": "python",
   "pygments_lexer": "ipython3",
   "version": "3.9.13"
  }
 },
 "nbformat": 4,
 "nbformat_minor": 5
}
